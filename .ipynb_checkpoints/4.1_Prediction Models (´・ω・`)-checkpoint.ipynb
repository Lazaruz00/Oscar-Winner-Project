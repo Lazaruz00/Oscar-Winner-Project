{
 "cells": [
  {
   "cell_type": "markdown",
   "metadata": {},
   "source": [
    "# 4_Prediction Models"
   ]
  },
  {
   "cell_type": "markdown",
   "metadata": {},
   "source": [
    "In machine learning, there’s something called the “No Free Lunch” theorem which means no one algorithm works well for every problem. This is widely applicable in Prediction Models where we train our dataset on an algorithm and later use the trained model for predictions on new data."
   ]
  },
  {
   "cell_type": "markdown",
   "metadata": {},
   "source": [
    "Machine learning is part art and part science. When you look at machine learning algorithms, there is no one solution or one approach that fits all."
   ]
  },
  {
   "cell_type": "markdown",
   "metadata": {},
   "source": [
    "We classified all 53 of our features into 4 main categories. Accuracy is meaningless in our case, what we are interested to know is TPR. A classifier which works well with all the features in one doesn't mean it will work well for one particular feature category."
   ]
  },
  {
   "cell_type": "markdown",
   "metadata": {},
   "source": [
    "We face a dilemma here, we have the following problems:\n",
    "\n",
    "> 1. Which classifier best fits our dataset?\n",
    "> 2. Which feature best predicts the Best Picture winner?\n",
    "> 3. "
   ]
  },
  {
   "cell_type": "markdown",
   "metadata": {},
   "source": [
    "# Where shall we start? We are lost!"
   ]
  },
  {
   "cell_type": "markdown",
   "metadata": {},
   "source": [
    "<img src=\"img/cheat sheet.png\" width=\"900\" align=\"center\"/>"
   ]
  },
  {
   "cell_type": "markdown",
   "metadata": {},
   "source": [
    "If we look at the cheat sheet provided by Scikit Learn, we clearly fall under the set of classification. Since we have less than 100K samples of data, Linear Support Vector Classifier (Linear SVC) is suggested. In case the Linear SVC is not working, and since we are not having text data, we will be trying to adopt the KNeighbors Classifier. And touch wood if the outcome is not very ideal, eventually we will have to try using SVC or the ensemble classifiers such as the Bagging, Random Forest, Extra Tree classifiers, AdaBoost etc. \n",
    "\n",
    "\n",
    "(Wait, does that mean we can straight away start with essmble classifiers? :D"
   ]
  },
  {
   "cell_type": "markdown",
   "metadata": {},
   "source": [
    "<img src=\"img/ML.png\" width=\"900\" align=\"left\"/>"
   ]
  },
  {
   "cell_type": "markdown",
   "metadata": {},
   "source": [
    "To recall the 4 main features categories we have:\n",
    "\n",
    "### #1 Film Elements [20]\n",
    "\n",
    "> 1. Runtime (minutes)\n",
    "> 2. (Genre)\n",
    "\n",
    "     Action, Adventure, Animation, Biography, Comedy, Crime, Drama, Family, Fantasy, \n",
    "     History, Horror, Musical, Mystery, Romance, Sci-Fi, Sport, Thriller, War, Western\n",
    "\n",
    "### #2 Movie Critics Ratings  [5]\n",
    "\n",
    "> 1. IMDb User Rating\n",
    "> 2. IMDB User Votes\n",
    "> 3. Rotten Tomatoes Critics Rating \n",
    "> 4. Rotten Tomatoes Critics Review\n",
    "> 5. Metascore  \n",
    "\n",
    "### #3 Commercial [4]\n",
    "\n",
    "> 1. Budget\n",
    "> 2. Domestic (US) gross\n",
    "> 3. International gross\n",
    "> 4. Worldwide gross\n",
    "\n",
    "### #4 Film Awards [24]\n",
    "\n",
    "> 1. The British Academy of Film and Television Arts Film Awards (BAFTA) [winner, nominees]\n",
    "> 2. Director Guild Awards (DGA) [winner, nominees]\n",
    "> 3. Producer Guild Awards (PGA) [winner, nominees]\n",
    "> 4. Golden Globes - Comedy [winner, nominees]\n",
    "> 5. Golden Globes – Drama[winner, nominees]\n",
    "> 6. Cannes International Film Festival (Golden Palm) [winner, nominees]\n",
    "> 7. Berlin International Film Festival (Golden Bear) [winner, nominees]\n",
    "> 8. Venice Film Festival (Golden Lion) [winner, nominees]\n",
    "> 9. Toronto Film Festival – People Choice’s Award [winner, nominees]\n",
    "> 10. New York Film Critics Circle (NYFCC) Award for Best Picture [winner, nominees]\n",
    "> 11. Critics’ Choice Movie Award (CCMA) for Best Picture [winner, nominees]\n",
    "> 12. Online Film Critics Society Award (OFCSA) for Best Picture [winner, nominees]\n",
    "\n",
    "Total = 53 features"
   ]
  },
  {
   "cell_type": "markdown",
   "metadata": {},
   "source": [
    "> 1. Examine how well is each feature category in predicting the Oscar_winner\n",
    "> 2. Examine the individual features of the top 2 winners from Stage 1"
   ]
  },
  {
   "cell_type": "code",
   "execution_count": 204,
   "metadata": {},
   "outputs": [],
   "source": [
    "import numpy as np\n",
    "import pandas as pd\n",
    "import scikitplot as skplt\n",
    "import matplotlib.pyplot as plt\n",
    "import seaborn as sb\n",
    "sb.set()\n",
    "#-----------classifiers------------------------\n",
    "from sklearn.naive_bayes import MultinomialNB\n",
    "from sklearn.naive_bayes import GaussianNB\n",
    "from sklearn.naive_bayes import BernoulliNB\n",
    "from sklearn.tree import DecisionTreeClassifier\n",
    "from sklearn.ensemble import RandomForestClassifier\n",
    "from sklearn.linear_model import LogisticRegression\n",
    "from sklearn.ensemble import AdaBoostClassifier\n",
    "from sklearn.svm import SVC\n",
    "#----------------------------------------------\n",
    "from sklearn.metrics import accuracy_score,confusion_matrix,classification_report\n",
    "from sklearn.model_selection import train_test_split\n",
    "\n",
    "#-----------Additional Classifiers------------------\n",
    "from sklearn import svm\n",
    "from sklearn.neighbors import KNeighborsClassifier\n",
    "from sklearn.neural_network import MLPClassifier\n",
    "from xgboost import XGBClassifier\n",
    "from sklearn.ensemble import ExtraTreesClassifier\n",
    "from sklearn.ensemble import BaggingClassifier\n",
    "from sklearn.svm import LinearSVC\n",
    "import graphviz\n",
    "from sklearn.tree import export_graphviz\n",
    "\n",
    "from sklearn import tree\n",
    "\n",
    "from sklearn.metrics import roc_curve\n",
    "from sklearn.metrics import roc_auc_score\n",
    "from matplotlib import pyplot\n",
    "from matplotlib.pyplot import figure\n"
   ]
  },
  {
   "cell_type": "code",
   "execution_count": 205,
   "metadata": {},
   "outputs": [],
   "source": [
    "class color:\n",
    "   PURPLE = '\\033[95m'\n",
    "   CYAN = '\\033[96m'\n",
    "   DARKCYAN = '\\033[36m'\n",
    "   BLUE = '\\033[94m'\n",
    "   GREEN = '\\033[92m'\n",
    "   YELLOW = '\\033[93m'\n",
    "   RED = '\\033[91m'\n",
    "   BOLD = '\\033[1m'\n",
    "   UNDERLINE = '\\033[4m'\n",
    "   END = '\\033[0m'"
   ]
  },
  {
   "cell_type": "code",
   "execution_count": 206,
   "metadata": {},
   "outputs": [
    {
     "data": {
      "text/html": [
       "<div>\n",
       "<style scoped>\n",
       "    .dataframe tbody tr th:only-of-type {\n",
       "        vertical-align: middle;\n",
       "    }\n",
       "\n",
       "    .dataframe tbody tr th {\n",
       "        vertical-align: top;\n",
       "    }\n",
       "\n",
       "    .dataframe thead th {\n",
       "        text-align: right;\n",
       "    }\n",
       "</style>\n",
       "<table border=\"1\" class=\"dataframe\">\n",
       "  <thead>\n",
       "    <tr style=\"text-align: right;\">\n",
       "      <th></th>\n",
       "      <th>Year</th>\n",
       "      <th>Movie</th>\n",
       "      <th>Oscar_winner</th>\n",
       "      <th>Oscar_nominee</th>\n",
       "      <th>Runtime (min)</th>\n",
       "      <th>Certificate</th>\n",
       "      <th>Directors</th>\n",
       "      <th>Actors</th>\n",
       "      <th>Metascore</th>\n",
       "      <th>IMDb_rating</th>\n",
       "      <th>...</th>\n",
       "      <th>Golden_Bear_winner</th>\n",
       "      <th>Golden_Bear_nominee</th>\n",
       "      <th>Golden_Lion_winner</th>\n",
       "      <th>Golden_Lion_nominee</th>\n",
       "      <th>PCA_winner</th>\n",
       "      <th>PCA_nominee</th>\n",
       "      <th>NYFCC_winner</th>\n",
       "      <th>NYFCC_nominee</th>\n",
       "      <th>OFCS_winner</th>\n",
       "      <th>OFCS_nominee</th>\n",
       "    </tr>\n",
       "  </thead>\n",
       "  <tbody>\n",
       "    <tr>\n",
       "      <th>0</th>\n",
       "      <td>1999</td>\n",
       "      <td>Fight Club</td>\n",
       "      <td>0</td>\n",
       "      <td>0</td>\n",
       "      <td>139</td>\n",
       "      <td>R(A)</td>\n",
       "      <td>David Fincher</td>\n",
       "      <td>['Brad Pitt', 'Edward Norton', 'Meat Loaf', 'Z...</td>\n",
       "      <td>66</td>\n",
       "      <td>8.8</td>\n",
       "      <td>...</td>\n",
       "      <td>0</td>\n",
       "      <td>0</td>\n",
       "      <td>0</td>\n",
       "      <td>0</td>\n",
       "      <td>0</td>\n",
       "      <td>0</td>\n",
       "      <td>0</td>\n",
       "      <td>0</td>\n",
       "      <td>0</td>\n",
       "      <td>1</td>\n",
       "    </tr>\n",
       "    <tr>\n",
       "      <th>1</th>\n",
       "      <td>1999</td>\n",
       "      <td>The Matrix</td>\n",
       "      <td>0</td>\n",
       "      <td>0</td>\n",
       "      <td>136</td>\n",
       "      <td>PG</td>\n",
       "      <td>Lana Wachowski Lilly Wachowski</td>\n",
       "      <td>['Keanu Reeves', 'Laurence Fishburne', 'Carrie...</td>\n",
       "      <td>73</td>\n",
       "      <td>8.7</td>\n",
       "      <td>...</td>\n",
       "      <td>0</td>\n",
       "      <td>0</td>\n",
       "      <td>0</td>\n",
       "      <td>0</td>\n",
       "      <td>0</td>\n",
       "      <td>0</td>\n",
       "      <td>0</td>\n",
       "      <td>0</td>\n",
       "      <td>0</td>\n",
       "      <td>0</td>\n",
       "    </tr>\n",
       "    <tr>\n",
       "      <th>2</th>\n",
       "      <td>1999</td>\n",
       "      <td>The Green Mile</td>\n",
       "      <td>0</td>\n",
       "      <td>1</td>\n",
       "      <td>189</td>\n",
       "      <td>R(A)</td>\n",
       "      <td>Frank Darabont</td>\n",
       "      <td>['Tom Hanks', 'Michael Clarke Duncan', 'David ...</td>\n",
       "      <td>61</td>\n",
       "      <td>8.6</td>\n",
       "      <td>...</td>\n",
       "      <td>0</td>\n",
       "      <td>0</td>\n",
       "      <td>0</td>\n",
       "      <td>0</td>\n",
       "      <td>0</td>\n",
       "      <td>0</td>\n",
       "      <td>0</td>\n",
       "      <td>0</td>\n",
       "      <td>0</td>\n",
       "      <td>0</td>\n",
       "    </tr>\n",
       "  </tbody>\n",
       "</table>\n",
       "<p>3 rows × 61 columns</p>\n",
       "</div>"
      ],
      "text/plain": [
       "   Year           Movie  Oscar_winner  Oscar_nominee  Runtime (min)  \\\n",
       "0  1999      Fight Club             0              0            139   \n",
       "1  1999      The Matrix             0              0            136   \n",
       "2  1999  The Green Mile             0              1            189   \n",
       "\n",
       "  Certificate                       Directors  \\\n",
       "0        R(A)                   David Fincher   \n",
       "1          PG  Lana Wachowski Lilly Wachowski   \n",
       "2        R(A)                  Frank Darabont   \n",
       "\n",
       "                                              Actors  Metascore  IMDb_rating  \\\n",
       "0  ['Brad Pitt', 'Edward Norton', 'Meat Loaf', 'Z...         66          8.8   \n",
       "1  ['Keanu Reeves', 'Laurence Fishburne', 'Carrie...         73          8.7   \n",
       "2  ['Tom Hanks', 'Michael Clarke Duncan', 'David ...         61          8.6   \n",
       "\n",
       "   ...  Golden_Bear_winner  Golden_Bear_nominee  Golden_Lion_winner  \\\n",
       "0  ...                   0                    0                   0   \n",
       "1  ...                   0                    0                   0   \n",
       "2  ...                   0                    0                   0   \n",
       "\n",
       "   Golden_Lion_nominee  PCA_winner  PCA_nominee  NYFCC_winner NYFCC_nominee  \\\n",
       "0                    0           0            0             0             0   \n",
       "1                    0           0            0             0             0   \n",
       "2                    0           0            0             0             0   \n",
       "\n",
       "   OFCS_winner  OFCS_nominee  \n",
       "0            0             1  \n",
       "1            0             0  \n",
       "2            0             0  \n",
       "\n",
       "[3 rows x 61 columns]"
      ]
     },
     "execution_count": 206,
     "metadata": {},
     "output_type": "execute_result"
    }
   ],
   "source": [
    "data = pd.read_csv('data/movie_dataset_final.csv')\n",
    "data.head(3)"
   ]
  },
  {
   "cell_type": "code",
   "execution_count": 207,
   "metadata": {},
   "outputs": [],
   "source": [
    "# feat. = feature\n",
    "feat_film_elements = ['Runtime (min)', 'Action', 'Adventure', 'Animation', 'Biography', \n",
    "                      'Comedy', 'Crime', 'Drama', 'Family', 'Fantasy', 'History', 'Horror', 'Musical', 'Mystery', \n",
    "                      'Romance', 'Sci-Fi', 'Sport','Thriller', 'War', 'Western']  # Genre - binary  #20\n",
    "\n",
    "feat_movie_critics = ['IMDb_rating', 'IMDb_votes','RT_rating','RT_review','Metascore']  #5\n",
    "\n",
    "feat_commercial = ['Budget','Domestic (US) gross', 'International gross', 'Worldwide gross'] #4\n",
    "\n",
    "feat_awards = ['GG_drama_winner', 'GG_drama_nominee', 'GG_comedy_winner', 'GG_comedy_nominee',\n",
    "               'BAFTA_winner', 'BAFTA_nominee', 'DGA_winner', 'DGA_nominee',\n",
    "               'PGA_winner', 'PGA_nominee', 'CCMA_winner', 'CCMA_nominee',\n",
    "               'Golden_Palm_winner', 'Golden_Palm_nominee', 'Golden_Bear_winner', 'Golden_Bear_nominee',\n",
    "               'Golden_Lion_winner', 'Golden_Lion_nominee', 'PCA_winner', 'PCA_nominee',\n",
    "               'NYFCC_winner', 'NYFCC_nominee', 'OFCS_winner', 'OFCS_nominee'] #24\n",
    "\n",
    "feat_oscar_nominee = ['Oscar_nominee']"
   ]
  },
  {
   "cell_type": "code",
   "execution_count": 208,
   "metadata": {},
   "outputs": [],
   "source": [
    "#Function to calculate Accuracy Parameters (TPR,TNR,FPR,FNR)\n",
    "def get_rate(conArray):\n",
    "    con = conArray.ravel()\n",
    "    TN = con[0]\n",
    "    FP = con[1]\n",
    "    FN = con[2]\n",
    "    TP = con[3]\n",
    "    \n",
    "    TNR = TN/(TN+FP)\n",
    "    FNR = FN/(FN+TP)\n",
    "    TPR = TP/(TP+FN)\n",
    "    FPR = FP/(TN+FP)\n",
    "    \n",
    "    print(color.RED + \"True Positive Rate  \\t \" + color.RED +\": \", TPR.round(3), color.END)\n",
    "    print(\"True Negative Rate  \\t : \", TNR.round(3))\n",
    "    print(\"False Positive Rate \\t : \", FPR.round(3))\n",
    "    print(\"False Negative Rate \\t : \", FNR.round(3))"
   ]
  },
  {
   "cell_type": "code",
   "execution_count": 209,
   "metadata": {},
   "outputs": [],
   "source": [
    "all_feature = []\n",
    "all_feature = feat_film_elements + feat_movie_critics + feat_commercial + feat_awards\n"
   ]
  },
  {
   "cell_type": "code",
   "execution_count": 210,
   "metadata": {},
   "outputs": [],
   "source": [
    "#prep the x variables and y variables\n",
    "X_set_movie_critics = data[all_feature]\n",
    "y_set_movie_critics = data['Oscar_winner']\n",
    "\n",
    "#split the dataset\n",
    "X_train, X_test, y_train, y_test = train_test_split(X_set_movie_critics, y_set_movie_critics, test_size = 0.25)"
   ]
  },
  {
   "cell_type": "code",
   "execution_count": 211,
   "metadata": {},
   "outputs": [],
   "source": [
    "RF = RandomForestClassifier(n_estimators = 100, max_depth = 4)\n",
    "\n",
    "#fit data\n",
    "RF.fit(X_train, y_train)\n",
    "\n",
    "#predict response\n",
    "y_trainPred_RF = RF.predict(X_train)\n",
    "y_testPred_RF = RF.predict(X_test)"
   ]
  },
  {
   "cell_type": "code",
   "execution_count": 212,
   "metadata": {},
   "outputs": [
    {
     "name": "stdout",
     "output_type": "stream",
     "text": [
      "\u001b[1m\t [Train Data] \u001b[0m\n",
      "\n",
      "Classification Accuracy  :  0.997\n",
      "\u001b[91mTrue Positive Rate  \t \u001b[91m:  0.733 \u001b[0m\n",
      "True Negative Rate  \t :  1.0\n",
      "False Positive Rate \t :  0.0\n",
      "False Negative Rate \t :  0.267\n",
      "-----------------------------------\n",
      "\u001b[1m\t  [Test Data] \u001b[0m\n",
      "\n",
      "Classification Accuracy  :  0.989\n",
      "\u001b[91mTrue Positive Rate  \t \u001b[91m:  0.167 \u001b[0m\n",
      "True Negative Rate  \t :  0.998\n",
      "False Positive Rate \t :  0.002\n",
      "False Negative Rate \t :  0.833\n"
     ]
    },
    {
     "data": {
      "image/png": "[encoded data removed]",
      "text/plain": [
       "<Figure size 1440x576 with 4 Axes>"
      ]
     },
     "metadata": {},
     "output_type": "display_data"
    }
   ],
   "source": [
    "acurracy_RF = accuracy_score(y_test,y_testPred_RF)\n",
    "\n",
    "#conf = confusion_matrix(y_test, y_testPred_RF).ravel()\n",
    "#TPR = ((conf[3]/(conf[2]+conf[3]))*100).round(1)\n",
    "\n",
    "#compare_awards['DGA_winner']=TPR\n",
    "\n",
    "#visualise the result\n",
    "f,axes = plt.subplots(1,2,figsize = (20,8))\n",
    "sb.heatmap(confusion_matrix(y_train, y_trainPred_RF), annot = True, cmap=\"Blues\", annot_kws={\"size\":20}, ax = axes[0], fmt='.0f')\n",
    "sb.heatmap(confusion_matrix(y_test, y_testPred_RF), annot = True, cmap=\"Reds\", annot_kws={\"size\":20}, ax = axes[1], fmt = '.0f')\n",
    "\n",
    "print(color.BOLD + '\\t [Train Data] ' + color.END)\n",
    "print()\n",
    "print(\"Classification Accuracy  : \", RF.score(X_train, y_train).round(3))\n",
    "get_rate(confusion_matrix(y_train, y_trainPred_RF))\n",
    "\n",
    "print(\"-----------------------------------\")\n",
    "\n",
    "print(color.BOLD + '\\t  [Test Data] ' + color.END)\n",
    "print()\n",
    "print(\"Classification Accuracy  : \", RF.score(X_test, y_test).round(3))\n",
    "get_rate(confusion_matrix(y_test, y_testPred_RF))"
   ]
  },
  {
   "cell_type": "code",
   "execution_count": 213,
   "metadata": {},
   "outputs": [
    {
     "name": "stdout",
     "output_type": "stream",
     "text": [
      "\u001b[1m[Train Data]\u001b[0m\n",
      "              precision    recall  f1-score   support\n",
      "\n",
      "           0      0.997     1.000     0.999      1560\n",
      "           1      1.000     0.733     0.846        15\n",
      "\n",
      "    accuracy                          0.997      1575\n",
      "   macro avg      0.999     0.867     0.922      1575\n",
      "weighted avg      0.997     0.997     0.997      1575\n",
      "\n",
      "----------------------------------------------------------\n",
      "\u001b[1m[Test Data]\u001b[0m\n",
      "              precision    recall  f1-score   support\n",
      "\n",
      "           0      0.990     0.998     0.994       519\n",
      "           1      0.500     0.167     0.250         6\n",
      "\n",
      "    accuracy                          0.989       525\n",
      "   macro avg      0.745     0.582     0.622       525\n",
      "weighted avg      0.985     0.989     0.986       525\n",
      "\n"
     ]
    }
   ],
   "source": [
    "print(color.BOLD + '[Train Data]' + color.END)\n",
    "print(classification_report(y_train,y_trainPred_RF, digits=3))\n",
    "print(\"----------------------------------------------------------\")\n",
    "print(color.BOLD + '[Test Data]' + color.END)\n",
    "print(classification_report(y_test,y_testPred_RF, digits=3))"
   ]
  },
  {
   "cell_type": "code",
   "execution_count": 214,
   "metadata": {},
   "outputs": [
    {
     "name": "stdout",
     "output_type": "stream",
     "text": [
      "Random Forest: ROC AUC=0.582\n"
     ]
    },
    {
     "data": {
      "image/png": "[encoded data removed]",
      "text/plain": [
       "<Figure size 480x480 with 1 Axes>"
      ]
     },
     "metadata": {},
     "output_type": "display_data"
    }
   ],
   "source": [
    "from sklearn.metrics import roc_curve\n",
    "from sklearn.metrics import roc_auc_score\n",
    "from matplotlib import pyplot\n",
    "from matplotlib.pyplot import figure\n",
    "\n",
    "figure(figsize=(6,6), dpi=80, facecolor='w', edgecolor='k')\n",
    "\n",
    "RF_auc = roc_auc_score(y_test, y_testPred_RF)\n",
    "\n",
    "# summarize scores\n",
    "print('Random Forest: ROC AUC=%.3f' % (RF_auc))\n",
    "\n",
    "# calculate roc curves\n",
    "rf_fpr, rf_tpr, _ = roc_curve(y_test, y_testPred_RF)\n",
    "\n",
    "# plot the roc curve for the model\n",
    "pyplot.plot(rf_fpr, rf_tpr, 'b',label='AUC = %0.2f'% RF_auc)\n",
    "pyplot.plot([0,1],[0,1],'r--')\n",
    "\n",
    "# axis labels\n",
    "pyplot.xlabel('False Positive Rate')\n",
    "pyplot.ylabel('True Positive Rate')\n",
    "# show the legend\n",
    "pyplot.legend()\n",
    "# show the plot\n",
    "pyplot.show()"
   ]
  },
  {
   "cell_type": "code",
   "execution_count": null,
   "metadata": {},
   "outputs": [],
   "source": []
  },
  {
   "cell_type": "markdown",
   "metadata": {},
   "source": []
  },
  {
   "cell_type": "markdown",
   "metadata": {},
   "source": [
    "# Linear SVC"
   ]
  },
  {
   "cell_type": "markdown",
   "metadata": {},
   "source": [
    "# Category 1 - Film Elements"
   ]
  },
  {
   "cell_type": "code",
   "execution_count": null,
   "metadata": {},
   "outputs": [],
   "source": [
    "compare_category = dict()"
   ]
  },
  {
   "cell_type": "code",
   "execution_count": null,
   "metadata": {},
   "outputs": [],
   "source": [
    "#prep the x variables and y variables\n",
    "X_set_film_elements = data[feat_film_elements]\n",
    "y_set_film_elements = data['Oscar_winner']\n",
    "\n",
    "#split the dataset\n",
    "X_train, X_test, y_train, y_test = train_test_split(X_set_film_elements, y_set_film_elements, test_size = 0.25)"
   ]
  },
  {
   "cell_type": "code",
   "execution_count": null,
   "metadata": {},
   "outputs": [],
   "source": [
    "from sklearn.svm import LinearSVC\n",
    "\n",
    "linearSVC = LinearSVC(random_state=0, tol=1e-5, dual=False)\n",
    "\n",
    "#fit data\n",
    "linearSVC.fit(X_train, y_train)\n",
    "\n",
    "#predict response\n",
    "y_trainPred_linearSVC = linearSVC.predict(X_train)\n",
    "y_testPred_linearSVC = linearSVC.predict(X_test)"
   ]
  },
  {
   "cell_type": "code",
   "execution_count": null,
   "metadata": {},
   "outputs": [],
   "source": [
    "acurracy_linearSVC = accuracy_score(y_test,y_testPred_linearSVC)\n",
    "\n",
    "conf = confusion_matrix(y_test, y_testPred_linearSVC).ravel()\n",
    "TPR = ((conf[3]/(conf[2]+conf[3]))*100).round(1)\n",
    "\n",
    "compare_category['Film Elements']=TPR\n",
    "\n",
    "#visualise the result\n",
    "f,axes = plt.subplots(1,2,figsize = (20,8))\n",
    "sb.heatmap(confusion_matrix(y_train, y_trainPred_linearSVC), annot = True, cmap=\"Blues\", \n",
    "           annot_kws={\"size\":20}, ax = axes[0], fmt='.0f')\n",
    "sb.heatmap(confusion_matrix(y_test, y_testPred_linearSVC), annot = True, cmap=\"Reds\", \n",
    "           annot_kws={\"size\":20}, ax = axes[1], fmt = '.0f')\n",
    "\n",
    "print(color.BOLD + '\\t [Train Data] ' + color.END)\n",
    "print()\n",
    "print(\"Classification Accuracy  : \", linearSVC.score(X_train, y_train).round(3))\n",
    "get_rate(confusion_matrix(y_train, y_trainPred_linearSVC))\n",
    "\n",
    "print(\"-----------------------------------\")\n",
    "\n",
    "print(color.BOLD + '\\t  [Test Data] ' + color.END)\n",
    "print()\n",
    "print(\"Classification Accuracy  : \", linearSVC.score(X_test, y_test).round(3))\n",
    "get_rate(confusion_matrix(y_test, y_testPred_linearSVC))"
   ]
  },
  {
   "cell_type": "code",
   "execution_count": null,
   "metadata": {},
   "outputs": [],
   "source": [
    "print(color.BOLD + '[Train Data]' + color.END)\n",
    "print(classification_report(y_train,y_trainPred_linearSVC, digits=3))\n",
    "print(\"----------------------------------------------------------\")\n",
    "print(color.BOLD + '[Test Data]' + color.END)\n",
    "print(classification_report(y_test,y_testPred_linearSVC, digits=3))"
   ]
  },
  {
   "cell_type": "markdown",
   "metadata": {},
   "source": [
    "# Category 2 - Movie Critics Rating"
   ]
  },
  {
   "cell_type": "code",
   "execution_count": null,
   "metadata": {},
   "outputs": [],
   "source": [
    "#prep the x variables and y variables\n",
    "X_set_movie_critics = data[feat_movie_critics]\n",
    "y_set_movie_critics = data['Oscar_winner']\n",
    "\n",
    "#split the dataset\n",
    "X_train, X_test, y_train, y_test = train_test_split(X_set_movie_critics, y_set_movie_critics, test_size = 0.25)"
   ]
  },
  {
   "cell_type": "code",
   "execution_count": null,
   "metadata": {},
   "outputs": [],
   "source": [
    "from sklearn.svm import LinearSVC\n",
    "\n",
    "linearSVC = LinearSVC(random_state=0, tol=1e-5, dual=False)\n",
    "\n",
    "#fit data\n",
    "linearSVC.fit(X_train, y_train)\n",
    "\n",
    "#predict response\n",
    "y_trainPred_linearSVC = linearSVC.predict(X_train)\n",
    "y_testPred_linearSVC = linearSVC.predict(X_test)"
   ]
  },
  {
   "cell_type": "code",
   "execution_count": null,
   "metadata": {},
   "outputs": [],
   "source": [
    "acurracy_linearSVC = accuracy_score(y_test,y_testPred_linearSVC)\n",
    "\n",
    "conf = confusion_matrix(y_test, y_testPred_linearSVC).ravel()\n",
    "TPR = ((conf[3]/(conf[2]+conf[3]))*100).round(1)\n",
    "\n",
    "compare_category['Movie Critics Rating']=TPR\n",
    "\n",
    "#visualise the result\n",
    "f,axes = plt.subplots(1,2,figsize = (20,8))\n",
    "sb.heatmap(confusion_matrix(y_train, y_trainPred_linearSVC), annot = True, cmap=\"Blues\", \n",
    "           annot_kws={\"size\":20}, ax = axes[0], fmt='.0f')\n",
    "sb.heatmap(confusion_matrix(y_test, y_testPred_linearSVC), annot = True, cmap=\"Reds\", \n",
    "           annot_kws={\"size\":20}, ax = axes[1], fmt = '.0f')\n",
    "\n",
    "print(color.BOLD + '\\t [Train Data] ' + color.END)\n",
    "print()\n",
    "print(\"Classification Accuracy  : \", linearSVC.score(X_train, y_train).round(3))\n",
    "get_rate(confusion_matrix(y_train, y_trainPred_linearSVC))\n",
    "\n",
    "print(\"-----------------------------------\")\n",
    "\n",
    "print(color.BOLD + '\\t  [Test Data] ' + color.END)\n",
    "print()\n",
    "print(\"Classification Accuracy  : \", linearSVC.score(X_test, y_test).round(3))\n",
    "get_rate(confusion_matrix(y_test, y_testPred_linearSVC))"
   ]
  },
  {
   "cell_type": "code",
   "execution_count": null,
   "metadata": {},
   "outputs": [],
   "source": [
    "print(color.BOLD + '[Train Data]' + color.END)\n",
    "print(classification_report(y_train,y_trainPred_linearSVC, digits=3))\n",
    "print(\"----------------------------------------------------------\")\n",
    "print(color.BOLD + '[Test Data]' + color.END)\n",
    "print(classification_report(y_test,y_testPred_linearSVC, digits=3))"
   ]
  },
  {
   "cell_type": "markdown",
   "metadata": {},
   "source": [
    "# Category 3 - Commercial"
   ]
  },
  {
   "cell_type": "code",
   "execution_count": null,
   "metadata": {},
   "outputs": [],
   "source": [
    "#prep the x variables and y variables\n",
    "X_set_commercial = data[feat_commercial]\n",
    "y_set_commercial = data['Oscar_winner']\n",
    "\n",
    "#split the dataset\n",
    "X_train, X_test, y_train, y_test = train_test_split(X_set_commercial, y_set_commercial, test_size = 0.25)"
   ]
  },
  {
   "cell_type": "code",
   "execution_count": null,
   "metadata": {},
   "outputs": [],
   "source": [
    "from sklearn.svm import LinearSVC\n",
    "\n",
    "linearSVC = LinearSVC(random_state=0, tol=1e-5, dual=False)\n",
    "\n",
    "#fit data\n",
    "linearSVC.fit(X_train, y_train)\n",
    "\n",
    "#predict response\n",
    "y_trainPred_linearSVC = linearSVC.predict(X_train)\n",
    "y_testPred_linearSVC = linearSVC.predict(X_test)"
   ]
  },
  {
   "cell_type": "code",
   "execution_count": null,
   "metadata": {},
   "outputs": [],
   "source": [
    "acurracy_linearSVC = accuracy_score(y_test,y_testPred_linearSVC)\n",
    "\n",
    "conf = confusion_matrix(y_test, y_testPred_linearSVC).ravel()\n",
    "TPR = ((conf[3]/(conf[2]+conf[3]))*100).round(1)\n",
    "\n",
    "compare_category['Commercial']=TPR\n",
    "\n",
    "#visualise the result\n",
    "f,axes = plt.subplots(1,2,figsize = (20,8))\n",
    "sb.heatmap(confusion_matrix(y_train, y_trainPred_linearSVC), annot = True, cmap=\"Blues\", \n",
    "           annot_kws={\"size\":20}, ax = axes[0], fmt='.0f')\n",
    "sb.heatmap(confusion_matrix(y_test, y_testPred_linearSVC), annot = True, cmap=\"Reds\", \n",
    "           annot_kws={\"size\":20}, ax = axes[1], fmt = '.0f')\n",
    "\n",
    "print(color.BOLD + '\\t [Train Data] ' + color.END)\n",
    "print()\n",
    "print(\"Classification Accuracy  : \", linearSVC.score(X_train, y_train).round(3))\n",
    "get_rate(confusion_matrix(y_train, y_trainPred_linearSVC))\n",
    "\n",
    "print(\"-----------------------------------\")\n",
    "\n",
    "print(color.BOLD + '\\t  [Test Data] ' + color.END)\n",
    "print()\n",
    "print(\"Classification Accuracy  : \", linearSVC.score(X_test, y_test).round(3))\n",
    "get_rate(confusion_matrix(y_test, y_testPred_linearSVC))"
   ]
  },
  {
   "cell_type": "code",
   "execution_count": null,
   "metadata": {},
   "outputs": [],
   "source": [
    "print(color.BOLD + '[Train Data]' + color.END)\n",
    "print(classification_report(y_train,y_trainPred_linearSVC, digits=3))\n",
    "print(\"----------------------------------------------------------\")\n",
    "print(color.BOLD + '[Test Data]' + color.END)\n",
    "print(classification_report(y_test,y_testPred_linearSVC, digits=3))"
   ]
  },
  {
   "cell_type": "markdown",
   "metadata": {},
   "source": [
    "# Category 4 - Film Awards"
   ]
  },
  {
   "cell_type": "code",
   "execution_count": null,
   "metadata": {},
   "outputs": [],
   "source": [
    "#prep the x variables and y variables\n",
    "X_set_awards = data[feat_awards]\n",
    "y_set_awards = data['Oscar_winner']\n",
    "\n",
    "#split the dataset\n",
    "X_train, X_test, y_train, y_test = train_test_split(X_set_awards, y_set_awards, test_size = 0.25)"
   ]
  },
  {
   "cell_type": "code",
   "execution_count": null,
   "metadata": {},
   "outputs": [],
   "source": [
    "from sklearn.svm import LinearSVC\n",
    "\n",
    "linearSVC = LinearSVC(random_state=0, tol=1e-5, dual=False)\n",
    "\n",
    "#fit data\n",
    "linearSVC.fit(X_train, y_train)\n",
    "\n",
    "#predict response\n",
    "y_trainPred_linearSVC = linearSVC.predict(X_train)\n",
    "y_testPred_linearSVC = linearSVC.predict(X_test)"
   ]
  },
  {
   "cell_type": "code",
   "execution_count": null,
   "metadata": {},
   "outputs": [],
   "source": [
    "acurracy_linearSVC = accuracy_score(y_test,y_testPred_linearSVC)\n",
    "\n",
    "conf = confusion_matrix(y_test, y_testPred_linearSVC).ravel()\n",
    "TPR = ((conf[3]/(conf[2]+conf[3]))*100).round(1)\n",
    "\n",
    "compare_category['Film Awards']=TPR\n",
    "\n",
    "#visualise the result\n",
    "f,axes = plt.subplots(1,2,figsize = (20,8))\n",
    "sb.heatmap(confusion_matrix(y_train, y_trainPred_linearSVC), annot = True, cmap=\"Blues\", \n",
    "           annot_kws={\"size\":20}, ax = axes[0], fmt='.0f')\n",
    "sb.heatmap(confusion_matrix(y_test, y_testPred_linearSVC), annot = True, cmap=\"Reds\", \n",
    "           annot_kws={\"size\":20}, ax = axes[1], fmt = '.0f')\n",
    "\n",
    "print(color.BOLD + '\\t [Train Data] ' + color.END)\n",
    "print()\n",
    "print(\"Classification Accuracy  : \", linearSVC.score(X_train, y_train).round(3))\n",
    "get_rate(confusion_matrix(y_train, y_trainPred_linearSVC))\n",
    "\n",
    "print(\"-----------------------------------\")\n",
    "\n",
    "print(color.BOLD + '\\t  [Test Data] ' + color.END)\n",
    "print()\n",
    "print(\"Classification Accuracy  : \", linearSVC.score(X_test, y_test).round(3))\n",
    "get_rate(confusion_matrix(y_test, y_testPred_linearSVC))"
   ]
  },
  {
   "cell_type": "code",
   "execution_count": null,
   "metadata": {},
   "outputs": [],
   "source": [
    "print(color.BOLD + '[Train Data]' + color.END)\n",
    "print(classification_report(y_train,y_trainPred_linearSVC, digits=3))\n",
    "print(\"----------------------------------------------------------\")\n",
    "print(color.BOLD + '[Test Data]' + color.END)\n",
    "print(classification_report(y_test,y_testPred_linearSVC, digits=3))"
   ]
  },
  {
   "cell_type": "code",
   "execution_count": null,
   "metadata": {},
   "outputs": [],
   "source": [
    "sb.set(font_scale=1.7) \n",
    "fig, ax1 = plt.subplots(ncols=1, sharey=True,figsize=(22,10))\n",
    "graph=pd.DataFrame(list(compare_category.items()),columns=['Features Category','True Postive Rate'])\n",
    "display(graph) \n",
    "sb.pointplot(x=\"Features Category\", y=\"True Postive Rate\", data=graph,ax=ax1)"
   ]
  },
  {
   "cell_type": "markdown",
   "metadata": {},
   "source": [
    "Just in case... We test with KNeighbors Classifier too.\n"
   ]
  },
  {
   "cell_type": "markdown",
   "metadata": {},
   "source": [
    "---"
   ]
  },
  {
   "cell_type": "markdown",
   "metadata": {},
   "source": [
    "# K-Nearest Neighbors Classifier"
   ]
  },
  {
   "cell_type": "markdown",
   "metadata": {},
   "source": [
    "# Category 1 - Film Elements"
   ]
  },
  {
   "cell_type": "code",
   "execution_count": null,
   "metadata": {},
   "outputs": [],
   "source": [
    "compare_category2 = dict()"
   ]
  },
  {
   "cell_type": "code",
   "execution_count": null,
   "metadata": {},
   "outputs": [],
   "source": [
    "#prep the x variables and y variables\n",
    "X_set_film_elements = data[feat_film_elements]\n",
    "y_set_film_elements = data['Oscar_winner']\n",
    "\n",
    "#split the dataset\n",
    "X_train, X_test, y_train, y_test = train_test_split(X_set_film_elements, y_set_film_elements, test_size = 0.25)"
   ]
  },
  {
   "cell_type": "code",
   "execution_count": null,
   "metadata": {},
   "outputs": [],
   "source": [
    "KNN = KNeighborsClassifier()\n",
    "\n",
    "#fit data\n",
    "KNN.fit(X_train, y_train)\n",
    "\n",
    "#predict response\n",
    "y_trainPred_KNN = KNN.predict(X_train)\n",
    "y_testPred_KNN = KNN.predict(X_test)"
   ]
  },
  {
   "cell_type": "code",
   "execution_count": null,
   "metadata": {},
   "outputs": [],
   "source": [
    "acurracy_KNN = accuracy_score(y_test,y_testPred_KNN)\n",
    "\n",
    "conf = confusion_matrix(y_test, y_testPred_KNN).ravel()\n",
    "TPR = ((conf[3]/(conf[2]+conf[3]))*100).round(1)\n",
    "\n",
    "compare_category2['Film Elements']=TPR\n",
    "\n",
    "#visualise the result\n",
    "f,axes = plt.subplots(1,2,figsize = (20,8))\n",
    "sb.heatmap(confusion_matrix(y_train, y_trainPred_KNN), annot = True, cmap=\"Blues\", \n",
    "           annot_kws={\"size\":20}, ax = axes[0], fmt='.0f')\n",
    "sb.heatmap(confusion_matrix(y_test, y_testPred_KNN), annot = True, cmap=\"Reds\", \n",
    "           annot_kws={\"size\":20}, ax = axes[1], fmt = '.0f')\n",
    "\n",
    "print(color.BOLD + '\\t [Train Data] ' + color.END)\n",
    "print()\n",
    "print(\"Classification Accuracy  : \", KNN.score(X_train, y_train).round(3))\n",
    "get_rate(confusion_matrix(y_train, y_trainPred_KNN))\n",
    "\n",
    "print(\"-----------------------------------\")\n",
    "\n",
    "print(color.BOLD + '\\t  [Test Data] ' + color.END)\n",
    "print()\n",
    "print(\"Classification Accuracy  : \", KNN.score(X_test, y_test).round(3))\n",
    "get_rate(confusion_matrix(y_test, y_testPred_KNN))"
   ]
  },
  {
   "cell_type": "code",
   "execution_count": null,
   "metadata": {},
   "outputs": [],
   "source": [
    "print(color.BOLD + '[Train Data]' + color.END)\n",
    "print(classification_report(y_train,y_trainPred_KNN, digits=3))\n",
    "print(\"----------------------------------------------------------\")\n",
    "print(color.BOLD + '[Test Data]' + color.END)\n",
    "print(classification_report(y_test,y_testPred_KNN, digits=3))"
   ]
  },
  {
   "cell_type": "markdown",
   "metadata": {},
   "source": [
    "# Category 2 - Movie Critics Rating"
   ]
  },
  {
   "cell_type": "code",
   "execution_count": null,
   "metadata": {},
   "outputs": [],
   "source": [
    "#prep the x variables and y variables\n",
    "X_set_movie_critics = data[feat_movie_critics]\n",
    "y_set_movie_critics = data['Oscar_winner']\n",
    "\n",
    "#split the dataset\n",
    "X_train, X_test, y_train, y_test = train_test_split(X_set_movie_critics, y_set_movie_critics, test_size = 0.25)"
   ]
  },
  {
   "cell_type": "code",
   "execution_count": null,
   "metadata": {},
   "outputs": [],
   "source": [
    "KNN = KNeighborsClassifier()\n",
    "\n",
    "#fit data\n",
    "KNN.fit(X_train, y_train)\n",
    "\n",
    "#predict response\n",
    "y_trainPred_KNN = KNN.predict(X_train)\n",
    "y_testPred_KNN = KNN.predict(X_test)"
   ]
  },
  {
   "cell_type": "code",
   "execution_count": null,
   "metadata": {},
   "outputs": [],
   "source": [
    "acurracy_KNN = accuracy_score(y_test,y_testPred_KNN)\n",
    "\n",
    "conf = confusion_matrix(y_test, y_testPred_KNN).ravel()\n",
    "TPR = ((conf[3]/(conf[2]+conf[3]))*100).round(1)\n",
    "\n",
    "compare_category2['Movie Critics Rating']=TPR\n",
    "\n",
    "#visualise the result\n",
    "f,axes = plt.subplots(1,2,figsize = (20,8))\n",
    "sb.heatmap(confusion_matrix(y_train, y_trainPred_KNN), annot = True, cmap=\"Blues\", \n",
    "           annot_kws={\"size\":20}, ax = axes[0], fmt='.0f')\n",
    "sb.heatmap(confusion_matrix(y_test, y_testPred_KNN), annot = True, cmap=\"Reds\", \n",
    "           annot_kws={\"size\":20}, ax = axes[1], fmt = '.0f')\n",
    "\n",
    "print(color.BOLD + '\\t [Train Data] ' + color.END)\n",
    "print()\n",
    "print(\"Classification Accuracy  : \", KNN.score(X_train, y_train).round(3))\n",
    "get_rate(confusion_matrix(y_train, y_trainPred_KNN))\n",
    "\n",
    "print(\"-----------------------------------\")\n",
    "\n",
    "print(color.BOLD + '\\t  [Test Data] ' + color.END)\n",
    "print()\n",
    "print(\"Classification Accuracy  : \", KNN.score(X_test, y_test).round(3))\n",
    "get_rate(confusion_matrix(y_test, y_testPred_KNN))"
   ]
  },
  {
   "cell_type": "code",
   "execution_count": null,
   "metadata": {},
   "outputs": [],
   "source": [
    "print(color.BOLD + '[Train Data]' + color.END)\n",
    "print(classification_report(y_train,y_trainPred_KNN, digits=3))\n",
    "print(\"----------------------------------------------------------\")\n",
    "print(color.BOLD + '[Test Data]' + color.END)\n",
    "print(classification_report(y_test,y_testPred_KNN, digits=3))"
   ]
  },
  {
   "cell_type": "markdown",
   "metadata": {},
   "source": [
    "# Category 3 - Commercial"
   ]
  },
  {
   "cell_type": "code",
   "execution_count": null,
   "metadata": {},
   "outputs": [],
   "source": [
    "#prep the x variables and y variables\n",
    "X_set_commercial = data[feat_commercial]\n",
    "y_set_commercial = data['Oscar_winner']\n",
    "\n",
    "#split the dataset\n",
    "X_train, X_test, y_train, y_test = train_test_split(X_set_commercial, y_set_commercial, test_size = 0.25)"
   ]
  },
  {
   "cell_type": "code",
   "execution_count": null,
   "metadata": {},
   "outputs": [],
   "source": [
    "KNN = KNeighborsClassifier()\n",
    "\n",
    "#fit data\n",
    "KNN.fit(X_train, y_train)\n",
    "\n",
    "#predict response\n",
    "y_trainPred_KNN = KNN.predict(X_train)\n",
    "y_testPred_KNN = KNN.predict(X_test)"
   ]
  },
  {
   "cell_type": "code",
   "execution_count": null,
   "metadata": {},
   "outputs": [],
   "source": [
    "acurracy_KNN = accuracy_score(y_test,y_testPred_KNN)\n",
    "\n",
    "conf = confusion_matrix(y_test, y_testPred_KNN).ravel()\n",
    "TPR = ((conf[3]/(conf[2]+conf[3]))*100).round(1)\n",
    "\n",
    "compare_category2['Commercial']=TPR\n",
    "\n",
    "#visualise the result\n",
    "f,axes = plt.subplots(1,2,figsize = (20,8))\n",
    "sb.heatmap(confusion_matrix(y_train, y_trainPred_KNN), annot = True, cmap=\"Blues\", \n",
    "           annot_kws={\"size\":20}, ax = axes[0], fmt='.0f')\n",
    "sb.heatmap(confusion_matrix(y_test, y_testPred_KNN), annot = True, cmap=\"Reds\", \n",
    "           annot_kws={\"size\":20}, ax = axes[1], fmt = '.0f')\n",
    "\n",
    "print(color.BOLD + '\\t [Train Data] ' + color.END)\n",
    "print()\n",
    "print(\"Classification Accuracy  : \", KNN.score(X_train, y_train).round(3))\n",
    "get_rate(confusion_matrix(y_train, y_trainPred_KNN))\n",
    "\n",
    "print(\"-----------------------------------\")\n",
    "\n",
    "print(color.BOLD + '\\t  [Test Data] ' + color.END)\n",
    "print()\n",
    "print(\"Classification Accuracy  : \", KNN.score(X_test, y_test).round(3))\n",
    "get_rate(confusion_matrix(y_test, y_testPred_KNN))"
   ]
  },
  {
   "cell_type": "code",
   "execution_count": null,
   "metadata": {},
   "outputs": [],
   "source": [
    "print(color.BOLD + '[Train Data]' + color.END)\n",
    "print(classification_report(y_train,y_trainPred_KNN, digits=3))\n",
    "print(\"----------------------------------------------------------\")\n",
    "print(color.BOLD + '[Test Data]' + color.END)\n",
    "print(classification_report(y_test,y_testPred_KNN, digits=3))"
   ]
  },
  {
   "cell_type": "markdown",
   "metadata": {},
   "source": [
    "# Category 4 - Film Awards"
   ]
  },
  {
   "cell_type": "code",
   "execution_count": null,
   "metadata": {},
   "outputs": [],
   "source": [
    "#prep the x variables and y variables\n",
    "X_set_awards = data[feat_awards]\n",
    "y_set_awards = data['Oscar_winner']\n",
    "\n",
    "#split the dataset\n",
    "X_train, X_test, y_train, y_test = train_test_split(X_set_awards, y_set_awards, test_size = 0.25)"
   ]
  },
  {
   "cell_type": "code",
   "execution_count": null,
   "metadata": {},
   "outputs": [],
   "source": [
    "KNN = KNeighborsClassifier()\n",
    "\n",
    "#fit data\n",
    "KNN.fit(X_train, y_train)\n",
    "\n",
    "#predict response\n",
    "y_trainPred_KNN = KNN.predict(X_train)\n",
    "y_testPred_KNN = KNN.predict(X_test)"
   ]
  },
  {
   "cell_type": "code",
   "execution_count": null,
   "metadata": {},
   "outputs": [],
   "source": [
    "acurracy_KNN = accuracy_score(y_test,y_testPred_KNN)\n",
    "\n",
    "conf = confusion_matrix(y_test, y_testPred_KNN).ravel()\n",
    "TPR = ((conf[3]/(conf[2]+conf[3]))*100).round(1)\n",
    "\n",
    "compare_category2['Film Awards']=TPR\n",
    "\n",
    "#visualise the result\n",
    "f,axes = plt.subplots(1,2,figsize = (20,8))\n",
    "sb.heatmap(confusion_matrix(y_train, y_trainPred_KNN), annot = True, cmap=\"Blues\", \n",
    "           annot_kws={\"size\":20}, ax = axes[0], fmt='.0f')\n",
    "sb.heatmap(confusion_matrix(y_test, y_testPred_KNN), annot = True, cmap=\"Reds\", \n",
    "           annot_kws={\"size\":20}, ax = axes[1], fmt = '.0f')\n",
    "\n",
    "print(color.BOLD + '\\t [Train Data] ' + color.END)\n",
    "print()\n",
    "print(\"Classification Accuracy  : \", KNN.score(X_train, y_train).round(3))\n",
    "get_rate(confusion_matrix(y_train, y_trainPred_KNN))\n",
    "\n",
    "print(\"-----------------------------------\")\n",
    "\n",
    "print(color.BOLD + '\\t  [Test Data] ' + color.END)\n",
    "print()\n",
    "print(\"Classification Accuracy  : \", KNN.score(X_test, y_test).round(3))\n",
    "get_rate(confusion_matrix(y_test, y_testPred_KNN))"
   ]
  },
  {
   "cell_type": "code",
   "execution_count": null,
   "metadata": {},
   "outputs": [],
   "source": [
    "print(color.BOLD + '[Train Data]' + color.END)\n",
    "print(classification_report(y_train,y_trainPred_KNN, digits=3))\n",
    "print(\"----------------------------------------------------------\")\n",
    "print(color.BOLD + '[Test Data]' + color.END)\n",
    "print(classification_report(y_test,y_testPred_KNN, digits=3))"
   ]
  },
  {
   "cell_type": "code",
   "execution_count": null,
   "metadata": {},
   "outputs": [],
   "source": [
    "sb.set(font_scale=1.7) \n",
    "fig, ax1 = plt.subplots(ncols=1, sharey=True,figsize=(22,10))\n",
    "graph=pd.DataFrame(list(compare_category2.items()),columns=['Features Category','True Postive Rate'])\n",
    "display(graph) \n",
    "sb.pointplot(x=\"Features Category\", y=\"True Postive Rate\", data=graph,ax=ax1)"
   ]
  },
  {
   "cell_type": "markdown",
   "metadata": {},
   "source": [
    "linear SVC works better than K-Nearest Neighbors... The cheat sheet is right.\n"
   ]
  },
  {
   "cell_type": "markdown",
   "metadata": {},
   "source": [
    "<img src=\"img/corr.png\" width=\"900\" align=\"left\"/>"
   ]
  },
  {
   "cell_type": "markdown",
   "metadata": {},
   "source": [
    "From now onwards, we will be focusing entirely on the Film Awards category"
   ]
  },
  {
   "cell_type": "markdown",
   "metadata": {},
   "source": [
    "Bad news, linear SVC and KNN classifier have no easy way to compute the feature/variable importance weightage of their algorithm. We have no choice but to dive into the details of the individual features of the Film Awards feature category, we will need to move on and to adopt an ensemble classifier. To make our life easier, we will be using the classic Random Forest Classifier..."
   ]
  },
  {
   "cell_type": "markdown",
   "metadata": {},
   "source": [
    "# Random Forest Classifier "
   ]
  },
  {
   "cell_type": "code",
   "execution_count": null,
   "metadata": {},
   "outputs": [],
   "source": [
    "# feat. = feature\n",
    "feat_awards = ['GG_drama_winner', 'GG_drama_nominee', 'GG_comedy_winner', 'GG_comedy_nominee',\n",
    "               'BAFTA_winner', 'BAFTA_nominee', 'DGA_winner', 'DGA_nominee',\n",
    "               'PGA_winner', 'PGA_nominee', 'CCMA_winner', 'CCMA_nominee',\n",
    "               'Golden_Palm_winner', 'Golden_Palm_nominee', 'Golden_Bear_winner', 'Golden_Bear_nominee',\n",
    "               'Golden_Lion_winner', 'Golden_Lion_nominee', 'PCA_winner', 'PCA_nominee',\n",
    "               'NYFCC_winner', 'NYFCC_nominee', 'OFCS_winner', 'OFCS_nominee'] #24\n",
    "\n",
    "feat_oscar_nominee = ['Oscar_nominee']"
   ]
  },
  {
   "cell_type": "code",
   "execution_count": null,
   "metadata": {},
   "outputs": [],
   "source": [
    "#prep the x variables and y variables\n",
    "X_set_movie_critics = data[feat_awards]\n",
    "y_set_movie_critics = data['Oscar_winner']\n",
    "\n",
    "#split the dataset\n",
    "X_train, X_test, y_train, y_test = train_test_split(X_set_movie_critics, y_set_movie_critics, test_size = 0.25)"
   ]
  },
  {
   "cell_type": "code",
   "execution_count": null,
   "metadata": {},
   "outputs": [],
   "source": [
    "forest = RandomForestClassifier(\n",
    "    max_depth=25,\n",
    "    min_samples_split=15,\n",
    "    n_estimators=1000,\n",
    "    random_state=1)\n",
    "\n",
    "my_forest = forest.fit(X_train, y_train)"
   ]
  },
  {
   "cell_type": "code",
   "execution_count": null,
   "metadata": {},
   "outputs": [],
   "source": [
    "forest_importances = pd.DataFrame(my_forest.feature_importances_.round(3), feat_awards, columns=[\"Importances Weightage\"])\n",
    "\n",
    "print(forest_importances)\n",
    "print('Score', my_forest.score(X_train, y_train))"
   ]
  },
  {
   "cell_type": "markdown",
   "metadata": {},
   "source": [
    "Great! It aligns with the conclusions drawn from EDA. DGA_winner is deemed as the most important feature, followed by CCMA_winner and PGA_winner"
   ]
  },
  {
   "cell_type": "markdown",
   "metadata": {},
   "source": [
    "Now we will be testing just 3 of them using Random Forest Classifier."
   ]
  },
  {
   "cell_type": "markdown",
   "metadata": {},
   "source": [
    "# DGA_winner\n"
   ]
  },
  {
   "cell_type": "code",
   "execution_count": null,
   "metadata": {},
   "outputs": [],
   "source": [
    "compare_awards = dict()"
   ]
  },
  {
   "cell_type": "code",
   "execution_count": null,
   "metadata": {},
   "outputs": [],
   "source": [
    "#prep the x variables and y variables\n",
    "y_set_dgaw = data['Oscar_winner']\n",
    "X_set_dgaw = pd.DataFrame(data['DGA_winner'])\n",
    "    \n",
    "#split the dataset\n",
    "X_train, X_test, y_train, y_test = train_test_split(X_set_dgaw, y_set_dgaw, test_size = 0.25)"
   ]
  },
  {
   "cell_type": "code",
   "execution_count": null,
   "metadata": {},
   "outputs": [],
   "source": [
    "RF = RandomForestClassifier(n_estimators = 100, max_depth = 8)\n",
    "\n",
    "#fit data\n",
    "RF.fit(X_train, y_train)\n",
    "\n",
    "#predict response\n",
    "y_trainPred_RF = RF.predict(X_train)\n",
    "y_testPred_RF = RF.predict(X_test)"
   ]
  },
  {
   "cell_type": "code",
   "execution_count": null,
   "metadata": {},
   "outputs": [],
   "source": [
    "acurracy_RF = accuracy_score(y_test,y_testPred_RF)\n",
    "\n",
    "conf = confusion_matrix(y_test, y_testPred_RF).ravel()\n",
    "TPR = ((conf[3]/(conf[2]+conf[3]))*100).round(1)\n",
    "\n",
    "compare_awards['DGA_winner']=TPR\n",
    "\n",
    "#visualise the result\n",
    "f,axes = plt.subplots(1,2,figsize = (20,8))\n",
    "sb.heatmap(confusion_matrix(y_train, y_trainPred_RF), annot = True, cmap=\"Blues\", annot_kws={\"size\":20}, ax = axes[0], fmt='.0f')\n",
    "sb.heatmap(confusion_matrix(y_test, y_testPred_RF), annot = True, cmap=\"Reds\", annot_kws={\"size\":20}, ax = axes[1], fmt = '.0f')\n",
    "\n",
    "print(color.BOLD + '\\t [Train Data] ' + color.END)\n",
    "print()\n",
    "print(\"Classification Accuracy  : \", RF.score(X_train, y_train).round(3))\n",
    "get_rate(confusion_matrix(y_train, y_trainPred_RF))\n",
    "\n",
    "print(\"-----------------------------------\")\n",
    "\n",
    "print(color.BOLD + '\\t  [Test Data] ' + color.END)\n",
    "print()\n",
    "print(\"Classification Accuracy  : \", RF.score(X_test, y_test).round(3))\n",
    "get_rate(confusion_matrix(y_test, y_testPred_RF))"
   ]
  },
  {
   "cell_type": "code",
   "execution_count": null,
   "metadata": {},
   "outputs": [],
   "source": [
    "print(color.BOLD + '[Train Data]' + color.END)\n",
    "print(classification_report(y_train,y_trainPred_RF, digits=3))\n",
    "print(\"----------------------------------------------------------\")\n",
    "print(color.BOLD + '[Test Data]' + color.END)\n",
    "print(classification_report(y_test,y_testPred_RF, digits=3))"
   ]
  },
  {
   "cell_type": "code",
   "execution_count": null,
   "metadata": {},
   "outputs": [],
   "source": [
    "from sklearn.metrics import roc_curve\n",
    "from sklearn.metrics import roc_auc_score\n",
    "from matplotlib import pyplot\n",
    "from matplotlib.pyplot import figure\n",
    "\n",
    "figure(figsize=(6,6), dpi=80, facecolor='w', edgecolor='k')\n",
    "\n",
    "RF_auc = roc_auc_score(y_test, y_testPred_RF)\n",
    "\n",
    "# summarize scores\n",
    "print('Random Forest: ROC AUC=%.3f' % (RF_auc))\n",
    "\n",
    "# calculate roc curves\n",
    "rf_fpr, rf_tpr, _ = roc_curve(y_test, y_testPred_RF)\n",
    "\n",
    "# plot the roc curve for the model\n",
    "pyplot.plot(rf_fpr, rf_tpr, 'b',label='AUC = %0.2f'% RF_auc)\n",
    "pyplot.plot([0,1],[0,1],'r--')\n",
    "\n",
    "# axis labels\n",
    "pyplot.xlabel('False Positive Rate')\n",
    "pyplot.ylabel('True Positive Rate')\n",
    "# show the legend\n",
    "pyplot.legend()\n",
    "# show the plot\n",
    "pyplot.show()"
   ]
  },
  {
   "cell_type": "code",
   "execution_count": null,
   "metadata": {},
   "outputs": [],
   "source": [
    "from sklearn.metrics import roc_curve\n",
    "from sklearn.metrics import auc\n",
    "\n",
    "#pr, tpr, thresholds = roc_curve(testset.v1,predicted_values_XGB, pos_label=2)\n",
    "test_prediction = y_test.tolist()\n",
    "predicted_values = y_testPred_RF.tolist()\n",
    "\n",
    "test_prediction = [1 if pred==\"Oscar_winner\" else 0 for pred in test_prediction]\n",
    "predicted_values = [1 if pred==\"Oscar_winner\" else 0 for pred in predicted_values]\n",
    "\n",
    "fpr, tpr, thresholds = roc_curve(test_prediction,predicted_values)\n",
    "roc_auc = auc(fpr, tpr)\n",
    "print(\"The ROC Accuracy is {}\".format(roc_auc))"
   ]
  },
  {
   "cell_type": "code",
   "execution_count": null,
   "metadata": {},
   "outputs": [],
   "source": [
    "from sklearn.metrics import roc_curve\n",
    "from sklearn.metrics import auc\n",
    "\n",
    "#pr, tpr, thresholds = roc_curve(testset.v1,predicted_values_XGB, pos_label=2)\n",
    "test_prediction = testset.label.tolist()\n",
    "predicted_values = predicted_values_NB.tolist()\n",
    "test_prediction = [1 if pred==\"spam\" else 0 for pred in test_prediction]\n",
    "predicted_values = [1 if pred==\"spam\" else 0 for pred in predicted_values]\n",
    "fpr, tpr, thresholds = roc_curve(test_prediction,predicted_values)\n",
    "roc_auc = auc(fpr, tpr)\n",
    "print(\"The ROC Accuracy is {}\".format(roc_auc))"
   ]
  },
  {
   "cell_type": "markdown",
   "metadata": {},
   "source": [
    "# CCMA_winner"
   ]
  },
  {
   "cell_type": "code",
   "execution_count": null,
   "metadata": {},
   "outputs": [],
   "source": [
    "#prep the x variables and y variables\n",
    "y_set_ccma = pd.DataFrame(data['Oscar_winner'])\n",
    "X_set_ccma = pd.DataFrame(data['CCMA_winner'])\n",
    "    \n",
    "#split the dataset\n",
    "X_train, X_test, y_train, y_test = train_test_split(X_set_ccma, y_set_ccma, test_size = 0.25)"
   ]
  },
  {
   "cell_type": "code",
   "execution_count": null,
   "metadata": {},
   "outputs": [],
   "source": [
    "RF = RandomForestClassifier(n_estimators = 100, max_depth = 8)\n",
    "\n",
    "#fit data\n",
    "RF.fit(X_train, y_train)\n",
    "\n",
    "#predict response\n",
    "y_trainPred_RF = RF.predict(X_train)\n",
    "y_testPred_RF = RF.predict(X_test)"
   ]
  },
  {
   "cell_type": "code",
   "execution_count": null,
   "metadata": {},
   "outputs": [],
   "source": [
    "acurracy_RF = accuracy_score(y_test,y_testPred_RF)\n",
    "\n",
    "conf = confusion_matrix(y_test, y_testPred_RF).ravel()\n",
    "TPR = ((conf[3]/(conf[2]+conf[3]))*100).round(1)\n",
    "\n",
    "compare_awards['CCMA_winner']=TPR\n",
    "\n",
    "#visualise the result\n",
    "f,axes = plt.subplots(1,2,figsize = (20,8))\n",
    "sb.heatmap(confusion_matrix(y_train, y_trainPred_RF), annot = True, cmap=\"Blues\", annot_kws={\"size\":20}, ax = axes[0], fmt='.0f')\n",
    "sb.heatmap(confusion_matrix(y_test, y_testPred_RF), annot = True, cmap=\"Reds\", annot_kws={\"size\":20}, ax = axes[1], fmt = '.0f')\n",
    "\n",
    "print(color.BOLD + '\\t [Train Data] ' + color.END)\n",
    "print()\n",
    "print(\"Classification Accuracy  : \", RF.score(X_train, y_train).round(3))\n",
    "get_rate(confusion_matrix(y_train, y_trainPred_RF))\n",
    "\n",
    "print(\"-----------------------------------\")\n",
    "\n",
    "print(color.BOLD + '\\t  [Test Data] ' + color.END)\n",
    "print()\n",
    "print(\"Classification Accuracy  : \", RF.score(X_test, y_test).round(3))\n",
    "get_rate(confusion_matrix(y_test, y_testPred_RF))"
   ]
  },
  {
   "cell_type": "code",
   "execution_count": null,
   "metadata": {},
   "outputs": [],
   "source": [
    "print(color.BOLD + '[Train Data]' + color.END)\n",
    "print(classification_report(y_train,y_trainPred_RF, digits=3))\n",
    "print(\"----------------------------------------------------------\")\n",
    "print(color.BOLD + '[Test Data]' + color.END)\n",
    "print(classification_report(y_test,y_testPred_RF, digits=3))"
   ]
  },
  {
   "cell_type": "markdown",
   "metadata": {},
   "source": [
    "# PGA_winner"
   ]
  },
  {
   "cell_type": "code",
   "execution_count": null,
   "metadata": {},
   "outputs": [],
   "source": [
    "#prep the x variables and y variables\n",
    "y_set_pgaw = data['Oscar_winner']\n",
    "X_set_pgaw = pd.DataFrame(data['PGA_winner'])\n",
    "    \n",
    "#split the dataset\n",
    "X_train, X_test, y_train, y_test = train_test_split(X_set_pgaw, y_set_pgaw, test_size = 0.25)"
   ]
  },
  {
   "cell_type": "code",
   "execution_count": null,
   "metadata": {},
   "outputs": [],
   "source": [
    "RF = RandomForestClassifier(n_estimators = 100, max_depth = 8)\n",
    "\n",
    "#fit data\n",
    "RF.fit(X_train, y_train)\n",
    "\n",
    "#predict response\n",
    "y_trainPred_RF = RF.predict(X_train)\n",
    "y_testPred_RF = RF.predict(X_test)"
   ]
  },
  {
   "cell_type": "code",
   "execution_count": null,
   "metadata": {},
   "outputs": [],
   "source": [
    "acurracy_RF = accuracy_score(y_test,y_testPred_RF)\n",
    "\n",
    "conf = confusion_matrix(y_test, y_testPred_RF).ravel()\n",
    "TPR = ((conf[3]/(conf[2]+conf[3]))*100).round(1)\n",
    "\n",
    "compare_awards['PGA_winner']=TPR\n",
    "\n",
    "#visualise the result\n",
    "f,axes = plt.subplots(1,2,figsize = (20,8))\n",
    "sb.heatmap(confusion_matrix(y_train, y_trainPred_RF), annot = True, cmap=\"Blues\", annot_kws={\"size\":20}, ax = axes[0], fmt='.0f')\n",
    "sb.heatmap(confusion_matrix(y_test, y_testPred_RF), annot = True, cmap=\"Reds\", annot_kws={\"size\":20}, ax = axes[1], fmt = '.0f')\n",
    "\n",
    "print(color.BOLD + '\\t [Train Data] ' + color.END)\n",
    "print()\n",
    "print(\"Classification Accuracy  : \", RF.score(X_train, y_train).round(3))\n",
    "get_rate(confusion_matrix(y_train, y_trainPred_RF))\n",
    "\n",
    "print(\"-----------------------------------\")\n",
    "\n",
    "print(color.BOLD + '\\t  [Test Data] ' + color.END)\n",
    "print()\n",
    "print(\"Classification Accuracy  : \", RF.score(X_test, y_test).round(3))\n",
    "get_rate(confusion_matrix(y_test, y_testPred_RF))"
   ]
  },
  {
   "cell_type": "code",
   "execution_count": null,
   "metadata": {},
   "outputs": [],
   "source": [
    "print(color.BOLD + '[Train Data]' + color.END)\n",
    "print(classification_report(y_train,y_trainPred_RF, digits=3))\n",
    "print(\"----------------------------------------------------------\")\n",
    "print(color.BOLD + '[Test Data]' + color.END)\n",
    "print(classification_report(y_test,y_testPred_RF, digits=3))"
   ]
  },
  {
   "cell_type": "code",
   "execution_count": null,
   "metadata": {},
   "outputs": [],
   "source": [
    "from sklearn.metrics import roc_curve\n",
    "from sklearn.metrics import auc\n",
    "\n",
    "#pr, tpr, thresholds = roc_curve(testset.v1,predicted_values_XGB, pos_label=2)\n",
    "test_prediction = y_test.tolist()\n",
    "predicted_values = y_testPred_RF.tolist()\n",
    "\n",
    "test_prediction = [1 if pred==\"Oscar_winner\" else 0 for pred in test_prediction]\n",
    "predicted_values = [1 if pred==\"Oscar_winner\" else 0 for pred in predicted_values]\n",
    "\n",
    "fpr, tpr, thresholds = roc_curve(test_prediction,predicted_values)\n",
    "roc_auc = auc(fpr, tpr)\n",
    "print(\"The ROC Accuracy is {}\".format(roc_auc))"
   ]
  },
  {
   "cell_type": "code",
   "execution_count": null,
   "metadata": {},
   "outputs": [],
   "source": [
    "sb.set(font_scale=1.7) \n",
    "fig, ax1 = plt.subplots(ncols=1, sharey=True,figsize=(22,10))\n",
    "graph=pd.DataFrame(list(compare_awards.items()),columns=['Features Category','True Postive Rate'])\n",
    "display(graph) \n",
    "sb.pointplot(x=\"Features Category\", y=\"True Postive Rate\", data=graph,ax=ax1)"
   ]
  },
  {
   "cell_type": "markdown",
   "metadata": {},
   "source": [
    "Apparently the results align with the feature importances "
   ]
  },
  {
   "cell_type": "markdown",
   "metadata": {},
   "source": [
    "use nominees to predict nominees?"
   ]
  },
  {
   "cell_type": "code",
   "execution_count": null,
   "metadata": {},
   "outputs": [],
   "source": []
  }
 ],
 "metadata": {
  "kernelspec": {
   "display_name": "Python 3",
   "language": "python",
   "name": "python3"
  },
  "language_info": {
   "codemirror_mode": {
    "name": "ipython",
    "version": 3
   },
   "file_extension": ".py",
   "mimetype": "text/x-python",
   "name": "python",
   "nbconvert_exporter": "python",
   "pygments_lexer": "ipython3",
   "version": "3.7.4"
  }
 },
 "nbformat": 4,
 "nbformat_minor": 4
}
